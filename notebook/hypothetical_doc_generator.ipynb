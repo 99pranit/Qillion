{
 "cells": [
  {
   "cell_type": "markdown",
   "metadata": {},
   "source": [
    "# Import Libraries"
   ]
  },
  {
   "cell_type": "code",
   "execution_count": 14,
   "metadata": {},
   "outputs": [],
   "source": [
    "import pandas as pd\n",
    "import numpy as np\n",
    "import h5py\n",
    "import spacy\n",
    "from sklearn.feature_extraction.text import TfidfVectorizer\n",
    "import matplotlib.pyplot as plt\n",
    "import os\n",
    "from transformers import pipeline\n",
    "from transformers import AutoTokenizer, AutoModelForQuestionAnswering\n",
    "import torch\n",
    "import re\n",
    "\n",
    "import warnings\n",
    "warnings.filterwarnings('ignore')\n",
    "pd.set_option('display.max_columns', None)  # Show all columns\n",
    "pd.set_option('display.max_rows', None)  # Show all rows\n",
    "pd.set_option('display.max_colwidth', None)  # Show full content in each cell\n",
    "pd.set_option('display.width', 1000)  # Set max width\n",
    "\n",
    "# Load spaCy's English model\n",
    "nlp = spacy.load('en_core_web_sm')\n",
    "\n",
    "API_KEY = os.environ.get('OPENAI_API_KEY')"
   ]
  },
  {
   "cell_type": "markdown",
   "metadata": {},
   "source": [
    "# Modules"
   ]
  },
  {
   "cell_type": "code",
   "execution_count": null,
   "metadata": {},
   "outputs": [],
   "source": [
    "def preprocess_text(text):\n",
    "    # Define interrogative words to KEEP\n",
    "    interrogatives = {\"what\", \"why\", \"how\", \"who\", \"where\", \"when\", \"which\", \"whom\", \"whose\", \"no\", \"not\",\n",
    "                    \"very\" ,\"too\" ,\"too\" ,\"just\", \"if\", \"but\", \"however\", \"without\", \"like\"}\n",
    "    custom_stopwords = set(nlp.Defaults.stop_words)\n",
    "    custom_stopwords -= interrogatives\n",
    "\n",
    "    doc = nlp(text.lower().strip())  # Lowercase and remove whitespace\n",
    "    \n",
    "# Process tokens: lemmatize, filter stopwords/punct/numbers, keep interrogatives\n",
    "    tokens = [\n",
    "        token.lemma_ \n",
    "        for token in doc \n",
    "        if (\n",
    "            (not token.is_stop or token.text in interrogatives) and  # Keep interrogatives\n",
    "            not token.is_punct and token.is_alpha                                  # Remove punctuation\n",
    "            # (token.is_alpha or token.like_num)                       # Keep words/numbers\n",
    "        )\n",
    "    ]\n",
    "\n",
    "    return ' '.join(tokens)"
   ]
  },
  {
   "cell_type": "code",
   "execution_count": null,
   "metadata": {},
   "outputs": [],
   "source": [
    "label_mapper = {\n",
    "    'BT1' : 'knowledge',\n",
    "    'BT2' : 'comprehension',\n",
    "    'BT3' : 'application',\n",
    "    'BT4' : 'analysis',\n",
    "    'BT5' : 'synthesis',\n",
    "    'BT6' : 'evaluation'\n",
    "}\n",
    "\n",
    "# Load dataset\n",
    "df = pd.DataFrame()\n",
    "for i in range(1,5):\n",
    "    q_df = pd.read_csv(os.getcwd().replace('notebook' , 'dataset') + '/dataset' + str(i) + '.csv')\n",
    "    df = pd.concat([df , q_df])\n",
    "\n",
    "# Apply preprocessing\n",
    "mask = df['label'].isin(label_mapper.keys())\n",
    "df['label'] = df['label'].mask(mask, df['label'].map(label_mapper))\n",
    "\n",
    "df['label'] = df['label'].str.lower()\n",
    "\n",
    "df['processed_question'] = df['question'].apply(preprocess_text)\n",
    "\n",
    "df['processed_question'] = [''.join(text) for text in df['processed_question']]"
   ]
  },
  {
   "cell_type": "markdown",
   "metadata": {},
   "source": [
    "# Hypothetical Question Generation"
   ]
  },
  {
   "cell_type": "code",
   "execution_count": null,
   "metadata": {},
   "outputs": [
    {
     "name": "stdout",
     "output_type": "stream",
     "text": [
      "Using device: mps\n"
     ]
    }
   ],
   "source": [
    "# Configure for MPS acceleration (Apple Silicon)\n",
    "device = \"mps\" if torch.backends.mps.is_available() else \"cpu\"\n",
    "dtype = torch.float32  # MPS currently better with full precision\n",
    "print(f\"Using device: {device}\")"
   ]
  },
  {
   "cell_type": "code",
   "execution_count": 11,
   "metadata": {},
   "outputs": [
    {
     "name": "stderr",
     "output_type": "stream",
     "text": [
      "Device set to use mps\n"
     ]
    },
    {
     "name": "stdout",
     "output_type": "stream",
     "text": [
      "Generated (1 questions):\n",
      "1. Why does the sky appear blue during daytime? 2. What is the effect of light scattering on sunset colors? 3. What is the effect of light scattering on sunset colors?"
     ]
    }
   ],
   "source": [
    "model_name = \"google/flan-t5-base\"\n",
    "tokenizer = AutoTokenizer.from_pretrained(model_name)\n",
    "generator = pipeline(\n",
    "    task= \"text2text-generation\",\n",
    "    model= model_name,\n",
    "    tokenizer=tokenizer,\n",
    "    device = \"mps\"\n",
    "    )\n",
    "\n",
    "prompt = prompt = \"\"\"Generate 10 short questions similar to 'why sky is blue?' satisfying blooms level 'understanding'. Follow this exact format:\n",
    "\n",
    "1. Why does the sky appear blue during daytime?\n",
    "2. How does light scattering affect sunset colors?\n",
    "...\n",
    "10.\n",
    "\n",
    "Questions:\"\"\"\n",
    "\n",
    "results = generator(\n",
    "    prompt,\n",
    "    max_length=500,\n",
    "    num_return_sequences=1,\n",
    "    temperature=0.7)\n",
    "\n",
    "if results:\n",
    "    generated = results[0][\"generated_text\"].strip()\n",
    "    questions = []\n",
    "    for line in generated.split(\"\\n\"):\n",
    "        if line.strip() and any(c.isdigit() for c in line[:3]):\n",
    "            # Extract question text after number\n",
    "            q = line.split(\". \", 1)[-1].strip()\n",
    "            if q and q[-1] == \"?\":  # Simple validation\n",
    "                questions.append(q)\n",
    "    \n",
    "    print(f\"Generated ({len(questions)} questions):\")\n",
    "    for i, q in enumerate(questions[:10], 1):\n",
    "        print(f\"{i}. {q}\", end= \"\")\n",
    "else:\n",
    "    print(\"Generation failed\")"
   ]
  },
  {
   "cell_type": "code",
   "execution_count": null,
   "metadata": {},
   "outputs": [],
   "source": [
    "questions = re.findall(r\"\\d+[\\.\\)]\\s*(.*?\\?)\", generated)\n",
    "print(questions)"
   ]
  }
 ],
 "metadata": {
  "kernelspec": {
   "display_name": "nlp_eve",
   "language": "python",
   "name": "python3"
  },
  "language_info": {
   "codemirror_mode": {
    "name": "ipython",
    "version": 3
   },
   "file_extension": ".py",
   "mimetype": "text/x-python",
   "name": "python",
   "nbconvert_exporter": "python",
   "pygments_lexer": "ipython3",
   "version": "3.10.16"
  }
 },
 "nbformat": 4,
 "nbformat_minor": 2
}
