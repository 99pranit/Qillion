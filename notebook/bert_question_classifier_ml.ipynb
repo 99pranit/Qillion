{
 "cells": [
  {
   "cell_type": "markdown",
   "metadata": {},
   "source": [
    "# Import Libraries"
   ]
  },
  {
   "cell_type": "code",
   "execution_count": 1,
   "metadata": {},
   "outputs": [
    {
     "name": "stderr",
     "output_type": "stream",
     "text": [
      "/opt/anaconda3/envs/yt_env/lib/python3.10/site-packages/tqdm/auto.py:21: TqdmWarning: IProgress not found. Please update jupyter and ipywidgets. See https://ipywidgets.readthedocs.io/en/stable/user_install.html\n",
      "  from .autonotebook import tqdm as notebook_tqdm\n"
     ]
    }
   ],
   "source": [
    "import pandas as pd\n",
    "import numpy as np\n",
    "import h5py\n",
    "import spacy\n",
    "from sklearn.feature_extraction.text import TfidfVectorizer\n",
    "from sklearn.model_selection import train_test_split\n",
    "from sklearn.metrics import accuracy_score, classification_report, confusion_matrix\n",
    "from sklearn.model_selection import GridSearchCV, cross_val_score\n",
    "from sklearn.ensemble import RandomForestClassifier\n",
    "import matplotlib.pyplot as plt\n",
    "import os\n",
    "import string as st\n",
    "from transformers import BertTokenizer, TFBertModel\n",
    "import tensorflow as tf\n",
    "import torch\n",
    "from sklearn.decomposition import PCA, TruncatedSVD\n",
    "from imblearn.ensemble import BalancedBaggingClassifier\n",
    "from imblearn.combine import SMOTETomek\n",
    "from imblearn.under_sampling import NearMiss\n",
    "from sklearn.tree import DecisionTreeClassifier\n",
    "from xgboost import XGBClassifier\n",
    "from collections import Counter\n",
    "\n",
    "pd.set_option('display.max_columns', None)  # Show all columns\n",
    "pd.set_option('display.max_rows', None)  # Show all rows\n",
    "pd.set_option('display.max_colwidth', None)  # Show full content in each cell\n",
    "pd.set_option('display.width', 1000)  # Set max width\n",
    "\n",
    "# Load spaCy's English model\n",
    "nlp = spacy.load('en_core_web_sm')"
   ]
  },
  {
   "cell_type": "markdown",
   "metadata": {},
   "source": [
    "# Linguistic Modules"
   ]
  },
  {
   "cell_type": "code",
   "execution_count": 2,
   "metadata": {},
   "outputs": [],
   "source": [
    "def preprocess_text(text):\n",
    "    # Define interrogative words to KEEP\n",
    "    interrogatives = {\"what\", \"why\", \"how\", \"who\", \"where\", \"when\", \"which\", \"whom\", \"whose\", \"no\", \"not\",\n",
    "                    \"very\" ,\"too\" ,\"too\" ,\"just\", \"if\", \"but\", \"however\", \"without\", \"like\"}\n",
    "    custom_stopwords = set(nlp.Defaults.stop_words)\n",
    "    custom_stopwords -= interrogatives\n",
    "\n",
    "    doc = nlp(text.lower().strip())  # Lowercase and remove whitespace\n",
    "    \n",
    "# Process tokens: lemmatize, filter stopwords/punct/numbers, keep interrogatives\n",
    "    tokens = [\n",
    "        token.lemma_ \n",
    "        for token in doc \n",
    "        if (\n",
    "            (not token.is_stop or token.text in interrogatives) and  # Keep interrogatives\n",
    "            not token.is_punct and token.is_alpha                                  # Remove punctuation\n",
    "            # (token.is_alpha or token.like_num)                       # Keep words/numbers\n",
    "        )\n",
    "    ]\n",
    "\n",
    "    return ' '.join(tokens)"
   ]
  },
  {
   "cell_type": "code",
   "execution_count": 3,
   "metadata": {},
   "outputs": [],
   "source": [
    "def extract_linguistic_features(text):\n",
    "    doc = nlp(text)\n",
    "    features = {\n",
    "        'num_verbs': len([token for token in doc if token.pos_ == 'VERB']),\n",
    "        'num_nouns': len([token for token in doc if token.pos_ == 'NOUN']),\n",
    "        'sentence_length': len(doc),\n",
    "        'number_present': any(token.pos_ == 'NUM' for token in doc)\n",
    "    }\n",
    "    return features"
   ]
  },
  {
   "cell_type": "code",
   "execution_count": 4,
   "metadata": {},
   "outputs": [],
   "source": [
    "def get_sentence_vector(text):\n",
    "    words = text.strip().split()\n",
    "    vectors = [model.get_word_vector(w) for w in words]\n",
    "    if not vectors:\n",
    "        return np.zeros(300)\n",
    "    return np.mean(vectors, axis=0)"
   ]
  },
  {
   "cell_type": "markdown",
   "metadata": {},
   "source": [
    "# Pre-Processing"
   ]
  },
  {
   "cell_type": "markdown",
   "metadata": {},
   "source": [
    "### Import Data"
   ]
  },
  {
   "cell_type": "code",
   "execution_count": null,
   "metadata": {},
   "outputs": [
    {
     "ename": "",
     "evalue": "",
     "output_type": "error",
     "traceback": [
      "\u001b[1;31mThe Kernel crashed while executing code in the current cell or a previous cell. \n",
      "\u001b[1;31mPlease review the code in the cell(s) to identify a possible cause of the failure. \n",
      "\u001b[1;31mClick <a href='https://aka.ms/vscodeJupyterKernelCrash'>here</a> for more info. \n",
      "\u001b[1;31mView Jupyter <a href='command:jupyter.viewOutput'>log</a> for further details."
     ]
    }
   ],
   "source": [
    "label_mapper = {\n",
    "    'BT1' : 'knowledge',\n",
    "    'BT2' : 'comprehension',\n",
    "    'BT3' : 'application',\n",
    "    'BT4' : 'analysis',\n",
    "    'BT5' : 'synthesis',\n",
    "    'BT6' : 'evaluation'\n",
    "}\n",
    "\n",
    "# Load dataset\n",
    "df = pd.DataFrame()\n",
    "for i in range(1,5):\n",
    "    q_df = pd.read_csv(os.getcwd().replace('notebook' , 'dataset') + '/dataset' + str(i) + '.csv')\n",
    "    df = pd.concat([df , q_df])\n",
    "\n",
    "# Apply preprocessing\n",
    "mask = df['label'].isin(label_mapper.keys())\n",
    "df['label'] = df['label'].mask(mask, df['label'].map(label_mapper))\n",
    "\n",
    "df['label'] = df['label'].str.lower()\n",
    "\n",
    "df['processed_question'] = df['question'].apply(preprocess_text)\n",
    "\n",
    "df['processed_question'] = [''.join(text) for text in df['processed_question']]"
   ]
  },
  {
   "cell_type": "markdown",
   "metadata": {},
   "source": [
    "## Tokenize\n",
    "\n",
    "BERT model is used to retain context"
   ]
  },
  {
   "cell_type": "code",
   "execution_count": null,
   "metadata": {},
   "outputs": [
    {
     "name": "stderr",
     "output_type": "stream",
     "text": [
      "Some weights of the PyTorch model were not used when initializing the TF 2.0 model TFBertModel: ['cls.predictions.bias', 'cls.seq_relationship.bias', 'cls.predictions.transform.dense.weight', 'cls.predictions.transform.LayerNorm.weight', 'cls.seq_relationship.weight', 'cls.predictions.transform.LayerNorm.bias', 'cls.predictions.transform.dense.bias']\n",
      "- This IS expected if you are initializing TFBertModel from a PyTorch model trained on another task or with another architecture (e.g. initializing a TFBertForSequenceClassification model from a BertForPreTraining model).\n",
      "- This IS NOT expected if you are initializing TFBertModel from a PyTorch model that you expect to be exactly identical (e.g. initializing a TFBertForSequenceClassification model from a BertForSequenceClassification model).\n",
      "All the weights of TFBertModel were initialized from the PyTorch model.\n",
      "If your task is similar to the task the model of the checkpoint was trained on, you can already use TFBertModel for predictions without further training.\n"
     ]
    }
   ],
   "source": [
    "# Load pre-trained BERT (TensorFlow version)\n",
    "tokenizer = BertTokenizer.from_pretrained('bert-base-uncased')\n",
    "model = TFBertModel.from_pretrained('bert-base-uncased')\n",
    "\n",
    "# Tokenize and encode\n",
    "inputs = tokenizer(df['question'].tolist(), return_tensors='tf', padding=True, truncation=True)\n",
    "outputs = model(**inputs)\n",
    "\n",
    "# Extract embeddings (CLS token for sentence representation)\n",
    "sentence_embedding = outputs.last_hidden_state[:, 0, :]\n",
    "print(\"BERT Sentence Embedding Shape:\", sentence_embedding.shape)\n",
    "\n",
    "bert_df = pd.DataFrame(sentence_embedding.numpy())\n",
    "\n",
    "bert_df.to_csv('bert_sentence_embeddings.csv', index=False)"
   ]
  },
  {
   "cell_type": "markdown",
   "metadata": {},
   "source": [
    "# Feature Extraction"
   ]
  },
  {
   "cell_type": "markdown",
   "metadata": {},
   "source": [
    "### Adding Linguistic Features"
   ]
  },
  {
   "cell_type": "markdown",
   "metadata": {},
   "source": [
    "Execute if linguistic features like count for verb,noun,etc needed"
   ]
  },
  {
   "cell_type": "code",
   "execution_count": null,
   "metadata": {},
   "outputs": [],
   "source": [
    "# Adding linguistic features\n",
    "ling_features = df['question'].apply(extract_linguistic_features).apply(pd.Series)\n",
    "\n",
    "# Concatenate DataFrames\n",
    "token_df = pd.concat([ling_features, bert_df], axis=1)\n",
    "\n",
    "token_df.columns = token_df.columns.map(str)"
   ]
  },
  {
   "cell_type": "markdown",
   "metadata": {},
   "source": [
    "### Label Balancing"
   ]
  },
  {
   "cell_type": "code",
   "execution_count": 22,
   "metadata": {},
   "outputs": [],
   "source": [
    "x , y = token_df , df['label']\n",
    "x_resampled , y_resampled = SMOTETomek().fit_resample(x , y)"
   ]
  },
  {
   "cell_type": "markdown",
   "metadata": {},
   "source": [
    "# Modelling"
   ]
  },
  {
   "cell_type": "markdown",
   "metadata": {},
   "source": [
    "## Basic Machine Learning"
   ]
  },
  {
   "cell_type": "code",
   "execution_count": 23,
   "metadata": {},
   "outputs": [],
   "source": [
    "x_train , x_test , y_train, y_test = train_test_split(x_resampled, y_resampled, test_size=0.2, random_state=34 , stratify= y_resampled)"
   ]
  },
  {
   "cell_type": "markdown",
   "metadata": {},
   "source": [
    "### Random Forest"
   ]
  },
  {
   "cell_type": "code",
   "execution_count": 24,
   "metadata": {},
   "outputs": [
    {
     "name": "stderr",
     "output_type": "stream",
     "text": [
      "/opt/anaconda3/envs/nlp_eve/lib/python3.10/site-packages/joblib/externals/loky/process_executor.py:782: UserWarning: A worker stopped while some jobs were given to the executor. This can be caused by a too short worker timeout or by a memory leak.\n",
      "  warnings.warn(\n"
     ]
    },
    {
     "data": {
      "text/html": [
       "<div>\n",
       "<style scoped>\n",
       "    .dataframe tbody tr th:only-of-type {\n",
       "        vertical-align: middle;\n",
       "    }\n",
       "\n",
       "    .dataframe tbody tr th {\n",
       "        vertical-align: top;\n",
       "    }\n",
       "\n",
       "    .dataframe thead th {\n",
       "        text-align: right;\n",
       "    }\n",
       "</style>\n",
       "<table border=\"1\" class=\"dataframe\">\n",
       "  <thead>\n",
       "    <tr style=\"text-align: right;\">\n",
       "      <th></th>\n",
       "      <th>mean_test_score</th>\n",
       "      <th>params</th>\n",
       "    </tr>\n",
       "  </thead>\n",
       "  <tbody>\n",
       "    <tr>\n",
       "      <th>4</th>\n",
       "      <td>0.815142</td>\n",
       "      <td>{'criterion': 'gini', 'max_depth': None, 'n_estimators': 250}</td>\n",
       "    </tr>\n",
       "    <tr>\n",
       "      <th>5</th>\n",
       "      <td>0.814424</td>\n",
       "      <td>{'criterion': 'gini', 'max_depth': None, 'n_estimators': 500}</td>\n",
       "    </tr>\n",
       "    <tr>\n",
       "      <th>3</th>\n",
       "      <td>0.814305</td>\n",
       "      <td>{'criterion': 'gini', 'max_depth': None, 'n_estimators': 100}</td>\n",
       "    </tr>\n",
       "    <tr>\n",
       "      <th>2</th>\n",
       "      <td>0.789733</td>\n",
       "      <td>{'criterion': 'gini', 'max_depth': None, 'n_estimators': 10}</td>\n",
       "    </tr>\n",
       "    <tr>\n",
       "      <th>1</th>\n",
       "      <td>0.770601</td>\n",
       "      <td>{'criterion': 'gini', 'max_depth': None, 'n_estimators': 5}</td>\n",
       "    </tr>\n",
       "    <tr>\n",
       "      <th>0</th>\n",
       "      <td>0.676436</td>\n",
       "      <td>{'criterion': 'gini', 'max_depth': None, 'n_estimators': 2}</td>\n",
       "    </tr>\n",
       "    <tr>\n",
       "      <th>9</th>\n",
       "      <td>0.596204</td>\n",
       "      <td>{'criterion': 'gini', 'max_depth': 5, 'n_estimators': 100}</td>\n",
       "    </tr>\n",
       "    <tr>\n",
       "      <th>8</th>\n",
       "      <td>0.484939</td>\n",
       "      <td>{'criterion': 'gini', 'max_depth': 5, 'n_estimators': 10}</td>\n",
       "    </tr>\n",
       "    <tr>\n",
       "      <th>7</th>\n",
       "      <td>0.392208</td>\n",
       "      <td>{'criterion': 'gini', 'max_depth': 5, 'n_estimators': 5}</td>\n",
       "    </tr>\n",
       "    <tr>\n",
       "      <th>6</th>\n",
       "      <td>0.297926</td>\n",
       "      <td>{'criterion': 'gini', 'max_depth': 5, 'n_estimators': 2}</td>\n",
       "    </tr>\n",
       "  </tbody>\n",
       "</table>\n",
       "</div>"
      ],
      "text/plain": [
       "   mean_test_score                                                         params\n",
       "4         0.815142  {'criterion': 'gini', 'max_depth': None, 'n_estimators': 250}\n",
       "5         0.814424  {'criterion': 'gini', 'max_depth': None, 'n_estimators': 500}\n",
       "3         0.814305  {'criterion': 'gini', 'max_depth': None, 'n_estimators': 100}\n",
       "2         0.789733   {'criterion': 'gini', 'max_depth': None, 'n_estimators': 10}\n",
       "1         0.770601    {'criterion': 'gini', 'max_depth': None, 'n_estimators': 5}\n",
       "0         0.676436    {'criterion': 'gini', 'max_depth': None, 'n_estimators': 2}\n",
       "9         0.596204     {'criterion': 'gini', 'max_depth': 5, 'n_estimators': 100}\n",
       "8         0.484939      {'criterion': 'gini', 'max_depth': 5, 'n_estimators': 10}\n",
       "7         0.392208       {'criterion': 'gini', 'max_depth': 5, 'n_estimators': 5}\n",
       "6         0.297926       {'criterion': 'gini', 'max_depth': 5, 'n_estimators': 2}"
      ]
     },
     "execution_count": 24,
     "metadata": {},
     "output_type": "execute_result"
    }
   ],
   "source": [
    "params = {\n",
    "    'n_estimators' : [2 , 5 , 10 , 100, 250 , 500],\n",
    "    'criterion' : ['gini' , 'entropy'],\n",
    "    'max_depth' : [None , 5 , 10 , 100 , 250 , 500]\n",
    "}\n",
    "param_search = GridSearchCV(estimator= RandomForestClassifier(), param_grid= params, cv=5, n_jobs= -1)\n",
    "\n",
    "param_search.fit(x_resampled , y_resampled)\n",
    "\n",
    "cv_results = pd.DataFrame(param_search.cv_results_)\n",
    "cv_results = cv_results[[\"mean_test_score\", \"params\"]].head(10).sort_values(by=\"mean_test_score\", ascending=False)\n",
    "\n",
    "cv_results "
   ]
  },
  {
   "cell_type": "code",
   "execution_count": 25,
   "metadata": {},
   "outputs": [
    {
     "name": "stdout",
     "output_type": "stream",
     "text": [
      "               precision    recall  f1-score   support\n",
      "\n",
      "     analysis       0.94      0.89      0.91       563\n",
      "  application       0.92      0.91      0.91       563\n",
      "comprehension       0.87      0.87      0.87       554\n",
      "   evaluation       0.80      0.75      0.78       559\n",
      "    knowledge       0.78      0.86      0.82       548\n",
      "    synthesis       0.77      0.79      0.78       559\n",
      "\n",
      "     accuracy                           0.85      3346\n",
      "    macro avg       0.85      0.85      0.85      3346\n",
      " weighted avg       0.85      0.85      0.85      3346\n",
      "\n"
     ]
    }
   ],
   "source": [
    "classifier = RandomForestClassifier(n_estimators= 250 , max_depth= None , criterion= 'gini')\n",
    "classifier.fit(x_train, y_train)\n",
    "y_pred = classifier.predict(x_test)\n",
    "print(classification_report(y_test , y_pred))"
   ]
  },
  {
   "cell_type": "code",
   "execution_count": null,
   "metadata": {},
   "outputs": [],
   "source": [
    "question = 'How many total disk access is needed to search a record using two level indexing?'\n",
    "input =  tokenizer([question], return_tensors='tf', padding=True, truncation=True)\n",
    "output = model(**inputs)\n",
    "\n",
    "# Extract embeddings (CLS token for sentence representation)\n",
    "question_embedding = outputs.last_hidden_state[:, 0, :]\n",
    "\n",
    "bert_q = pd.DataFrame(sentence_embedding.numpy())\n",
    "\n",
    "# Adding linguistic features\n",
    "q_ling_features = pd.DataFrame([extract_linguistic_features(question)])\n",
    "\n",
    "# Concatenate DataFrames\n",
    "token_q = pd.concat([q_ling_features, bert_q], axis=1)\n",
    "\n",
    "print(classifier.predict(token_q))"
   ]
  },
  {
   "cell_type": "markdown",
   "metadata": {},
   "source": [
    "### Decision Tree"
   ]
  },
  {
   "cell_type": "code",
   "execution_count": 27,
   "metadata": {},
   "outputs": [
    {
     "name": "stderr",
     "output_type": "stream",
     "text": [
      "/opt/anaconda3/envs/nlp_eve/lib/python3.10/site-packages/joblib/externals/loky/process_executor.py:782: UserWarning: A worker stopped while some jobs were given to the executor. This can be caused by a too short worker timeout or by a memory leak.\n",
      "  warnings.warn(\n"
     ]
    },
    {
     "data": {
      "text/html": [
       "<div>\n",
       "<style scoped>\n",
       "    .dataframe tbody tr th:only-of-type {\n",
       "        vertical-align: middle;\n",
       "    }\n",
       "\n",
       "    .dataframe tbody tr th {\n",
       "        vertical-align: top;\n",
       "    }\n",
       "\n",
       "    .dataframe thead th {\n",
       "        text-align: right;\n",
       "    }\n",
       "</style>\n",
       "<table border=\"1\" class=\"dataframe\">\n",
       "  <thead>\n",
       "    <tr style=\"text-align: right;\">\n",
       "      <th></th>\n",
       "      <th>mean_test_score</th>\n",
       "      <th>params</th>\n",
       "    </tr>\n",
       "  </thead>\n",
       "  <tbody>\n",
       "    <tr>\n",
       "      <th>0</th>\n",
       "      <td>0.751050</td>\n",
       "      <td>{'criterion': 'gini', 'max_depth': None, 'min_samples_split': 2}</td>\n",
       "    </tr>\n",
       "    <tr>\n",
       "      <th>1</th>\n",
       "      <td>0.747344</td>\n",
       "      <td>{'criterion': 'gini', 'max_depth': None, 'min_samples_split': 5}</td>\n",
       "    </tr>\n",
       "    <tr>\n",
       "      <th>2</th>\n",
       "      <td>0.738196</td>\n",
       "      <td>{'criterion': 'gini', 'max_depth': None, 'min_samples_split': 10}</td>\n",
       "    </tr>\n",
       "    <tr>\n",
       "      <th>3</th>\n",
       "      <td>0.711950</td>\n",
       "      <td>{'criterion': 'gini', 'max_depth': None, 'min_samples_split': 50}</td>\n",
       "    </tr>\n",
       "    <tr>\n",
       "      <th>4</th>\n",
       "      <td>0.684508</td>\n",
       "      <td>{'criterion': 'gini', 'max_depth': None, 'min_samples_split': 100}</td>\n",
       "    </tr>\n",
       "    <tr>\n",
       "      <th>5</th>\n",
       "      <td>0.340731</td>\n",
       "      <td>{'criterion': 'gini', 'max_depth': 5, 'min_samples_split': 2}</td>\n",
       "    </tr>\n",
       "    <tr>\n",
       "      <th>7</th>\n",
       "      <td>0.340731</td>\n",
       "      <td>{'criterion': 'gini', 'max_depth': 5, 'min_samples_split': 10}</td>\n",
       "    </tr>\n",
       "    <tr>\n",
       "      <th>6</th>\n",
       "      <td>0.340551</td>\n",
       "      <td>{'criterion': 'gini', 'max_depth': 5, 'min_samples_split': 5}</td>\n",
       "    </tr>\n",
       "    <tr>\n",
       "      <th>8</th>\n",
       "      <td>0.340551</td>\n",
       "      <td>{'criterion': 'gini', 'max_depth': 5, 'min_samples_split': 50}</td>\n",
       "    </tr>\n",
       "    <tr>\n",
       "      <th>9</th>\n",
       "      <td>0.340372</td>\n",
       "      <td>{'criterion': 'gini', 'max_depth': 5, 'min_samples_split': 100}</td>\n",
       "    </tr>\n",
       "  </tbody>\n",
       "</table>\n",
       "</div>"
      ],
      "text/plain": [
       "   mean_test_score                                                              params\n",
       "0         0.751050    {'criterion': 'gini', 'max_depth': None, 'min_samples_split': 2}\n",
       "1         0.747344    {'criterion': 'gini', 'max_depth': None, 'min_samples_split': 5}\n",
       "2         0.738196   {'criterion': 'gini', 'max_depth': None, 'min_samples_split': 10}\n",
       "3         0.711950   {'criterion': 'gini', 'max_depth': None, 'min_samples_split': 50}\n",
       "4         0.684508  {'criterion': 'gini', 'max_depth': None, 'min_samples_split': 100}\n",
       "5         0.340731       {'criterion': 'gini', 'max_depth': 5, 'min_samples_split': 2}\n",
       "7         0.340731      {'criterion': 'gini', 'max_depth': 5, 'min_samples_split': 10}\n",
       "6         0.340551       {'criterion': 'gini', 'max_depth': 5, 'min_samples_split': 5}\n",
       "8         0.340551      {'criterion': 'gini', 'max_depth': 5, 'min_samples_split': 50}\n",
       "9         0.340372     {'criterion': 'gini', 'max_depth': 5, 'min_samples_split': 100}"
      ]
     },
     "execution_count": 27,
     "metadata": {},
     "output_type": "execute_result"
    }
   ],
   "source": [
    "params = {\n",
    "    'min_samples_split' : [2 , 5 , 10 , 50 , 100],\n",
    "    'criterion' : ['gini' , 'entropy'],\n",
    "    'max_depth' : [None , 5 , 10 , 20 , 50 , 100 , 250 , 500]\n",
    "    # 'min_samples_leaf' : [1 ,2 , 5 , 10 , 20 , 50 , 100]\n",
    "}\n",
    "param_search = GridSearchCV(estimator= DecisionTreeClassifier(), param_grid= params, cv=5, n_jobs= -1)\n",
    "\n",
    "param_search.fit(x_resampled , y_resampled)\n",
    "\n",
    "cv_results = pd.DataFrame(param_search.cv_results_)\n",
    "cv_results = cv_results[[\"mean_test_score\", \"params\"]].head(10).sort_values(by=\"mean_test_score\", ascending=False)\n",
    "\n",
    "cv_results "
   ]
  },
  {
   "cell_type": "code",
   "execution_count": 28,
   "metadata": {},
   "outputs": [
    {
     "name": "stdout",
     "output_type": "stream",
     "text": [
      "               precision    recall  f1-score   support\n",
      "\n",
      "     analysis       0.85      0.84      0.85       563\n",
      "  application       0.84      0.86      0.85       563\n",
      "comprehension       0.83      0.81      0.82       554\n",
      "   evaluation       0.72      0.75      0.73       559\n",
      "    knowledge       0.74      0.75      0.75       548\n",
      "    synthesis       0.74      0.70      0.72       559\n",
      "\n",
      "     accuracy                           0.78      3346\n",
      "    macro avg       0.78      0.78      0.78      3346\n",
      " weighted avg       0.78      0.78      0.78      3346\n",
      "\n"
     ]
    }
   ],
   "source": [
    "dt = DecisionTreeClassifier(criterion= 'gini', max_depth= None, min_samples_split = 2)\n",
    "dt.fit(x_train, y_train)\n",
    "y_pred = dt.predict(x_test)\n",
    "print(classification_report(y_test , y_pred))"
   ]
  },
  {
   "cell_type": "code",
   "execution_count": null,
   "metadata": {},
   "outputs": [
    {
     "name": "stdout",
     "output_type": "stream",
     "text": [
      "['analysis']\n"
     ]
    }
   ],
   "source": [
    "question = 'How many total disk access is needed to search a record using two level indexing?'\n",
    "input =  tokenizer([question], return_tensors='tf', padding=True, truncation=True)\n",
    "output = model(**inputs)\n",
    "\n",
    "# Extract embeddings (CLS token for sentence representation)\n",
    "question_embedding = outputs.last_hidden_state[:, 0, :]\n",
    "\n",
    "bert_q = pd.DataFrame(sentence_embedding.numpy())\n",
    "\n",
    "# Adding linguistic features\n",
    "q_ling_features = pd.DataFrame([extract_linguistic_features(question)])\n",
    "\n",
    "# Concatenate DataFrames\n",
    "token_q = pd.concat([q_ling_features, bert_q], axis=1)\n",
    "\n",
    "print(dt.predict(token_q))"
   ]
  },
  {
   "cell_type": "markdown",
   "metadata": {},
   "source": [
    "### XGBoost"
   ]
  },
  {
   "cell_type": "code",
   "execution_count": null,
   "metadata": {},
   "outputs": [],
   "source": [
    "y_mapper = {\n",
    "    'knowledge' : 0,\n",
    "    'comprehension' : 1,\n",
    "    'application' : 2,\n",
    "    'analysis' : 3,\n",
    "    'synthesis' : 4,\n",
    "    'evaluation' : 5\n",
    "}\n",
    "\n",
    "xgb_y = y_resampled.map(y_mapper)\n",
    "xgb_y_train = y_train.map(y_mapper)\n",
    "xgb_y_test = y_test.map(y_mapper)\n"
   ]
  },
  {
   "cell_type": "code",
   "execution_count": null,
   "metadata": {},
   "outputs": [
    {
     "name": "stderr",
     "output_type": "stream",
     "text": [
      "/opt/anaconda3/envs/nlp_eve/lib/python3.10/site-packages/joblib/externals/loky/process_executor.py:782: UserWarning: A worker stopped while some jobs were given to the executor. This can be caused by a too short worker timeout or by a memory leak.\n",
      "  warnings.warn(\n"
     ]
    }
   ],
   "source": [
    "params = {\n",
    "    'objective' : ['multi:softprob'],\n",
    "    'max_depth' : [None , 10 , 50 , 100 , 250 , 500],\n",
    "    'n_estimators': [2 , 10 , 50 , 100, 200],\n",
    "    'learning_rate': [0.01, 0.1 , 0.5, 1],\n",
    "    'subsample': [0.8, 0.9]\n",
    "}\n",
    "param_search = GridSearchCV(estimator= XGBClassifier(), param_grid= params, cv=5, n_jobs= -1)\n",
    "\n",
    "param_search.fit(x_resampled , xgb_y)\n",
    "\n",
    "cv_results = pd.DataFrame(param_search.cv_results_)\n",
    "cv_results = cv_results[[\"mean_test_score\", \"params\"]].head(10).sort_values(by=\"mean_test_score\", ascending=False)\n",
    "\n",
    "cv_results "
   ]
  },
  {
   "cell_type": "code",
   "execution_count": null,
   "metadata": {},
   "outputs": [],
   "source": [
    "xgb = XGBClassifier(criterion= 'gini', max_depth= None, min_samples_split = 2)\n",
    "xgb.fit(x_train, xgb_y_train)\n",
    "y_pred = xgb.predict(x_test)\n",
    "print(classification_report(xgb_y_test , y_pred))"
   ]
  },
  {
   "cell_type": "code",
   "execution_count": null,
   "metadata": {},
   "outputs": [],
   "source": [
    "question = 'How many total disk access is needed to search a record using two level indexing?'\n",
    "input =  tokenizer([question], return_tensors='tf', padding=True, truncation=True)\n",
    "output = model(**inputs)\n",
    "\n",
    "# Extract embeddings (CLS token for sentence representation)\n",
    "question_embedding = outputs.last_hidden_state[:, 0, :]\n",
    "\n",
    "bert_q = pd.DataFrame(sentence_embedding.numpy())\n",
    "\n",
    "# Adding linguistic features\n",
    "q_ling_features = pd.DataFrame([extract_linguistic_features(question)])\n",
    "\n",
    "# Concatenate DataFrames\n",
    "token_q = pd.concat([q_ling_features, bert_q], axis=1)\n",
    "\n",
    "print(xgb.predict(token_q))"
   ]
  },
  {
   "cell_type": "markdown",
   "metadata": {},
   "source": [
    "### SVM"
   ]
  },
  {
   "cell_type": "code",
   "execution_count": null,
   "metadata": {},
   "outputs": [],
   "source": [
    "params = {\n",
    "    'C': [0.001, 0.1, 1, 10],\n",
    "    'gamma': ['scale', 'auto', 0.001, 0.01, 0.1],\n",
    "    'kernel': ['rbf', 'linear','poly', 'sigmoid'],\n",
    "    'degree': [1, 2, 4],\n",
    "}\n",
    "param_search = GridSearchCV(estimator= XGBClassifier(), param_grid= params, cv=5, n_jobs= -1)\n",
    "\n",
    "param_search.fit(x_resampled , y_resampled)\n",
    "\n",
    "cv_results = pd.DataFrame(param_search.cv_results_)\n",
    "cv_results = cv_results[[\"mean_test_score\", \"params\"]].head(10).sort_values(by=\"mean_test_score\", ascending=False)\n",
    "\n",
    "cv_results "
   ]
  }
 ],
 "metadata": {
  "kernelspec": {
   "display_name": "yt_env",
   "language": "python",
   "name": "python3"
  },
  "language_info": {
   "codemirror_mode": {
    "name": "ipython",
    "version": 3
   },
   "file_extension": ".py",
   "mimetype": "text/x-python",
   "name": "python",
   "nbconvert_exporter": "python",
   "pygments_lexer": "ipython3",
   "version": "3.10.16"
  }
 },
 "nbformat": 4,
 "nbformat_minor": 2
}
